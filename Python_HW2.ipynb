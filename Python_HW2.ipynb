{
 "cells": [
  {
   "cell_type": "markdown",
   "metadata": {},
   "source": [
    "## Задание 1\n",
    "\n",
    "Дана переменная, в которой хранится слово из **латинских букв**. Напишите код, который выводит на экран:\n",
    "\n",
    "- среднюю букву, если число букв в слове нечетное;\n",
    "- две средних буквы, если число букв четное.\n",
    "\n"
   ]
  },
  {
   "cell_type": "code",
   "execution_count": 1,
   "metadata": {},
   "outputs": [
    {
     "name": "stdout",
     "output_type": "stream",
     "text": [
      "Введите слово: test\n",
      "es\n"
     ]
    }
   ],
   "source": [
    "#even number of letters\n",
    "enter_word = input(\"Введите слово: \")\n",
    " \n",
    "number_of_letters = len(enter_word)\n",
    "median = number_of_letters / 2\n",
    "if number_of_letters % 2 == 0:\n",
    "    print(enter_word[int(median)-1:int(median)+1])\n",
    "elif number_of_letters % 2 !=0:\n",
    "    print(enter_word[int(median)])"
   ]
  },
  {
   "cell_type": "code",
   "execution_count": 2,
   "metadata": {},
   "outputs": [
    {
     "name": "stdout",
     "output_type": "stream",
     "text": [
      "Введите слово: testing\n",
      "t\n"
     ]
    }
   ],
   "source": [
    "#odd number of letters\n",
    "enter_word = input(\"Введите слово: \")\n",
    " \n",
    "number_of_letters = len(enter_word)\n",
    "median = number_of_letters / 2\n",
    "if number_of_letters % 2 == 0:\n",
    "    print(enter_word[int(median)-1:int(median)+1])\n",
    "elif number_of_letters % 2 !=0:\n",
    "    print(enter_word[int(median)])"
   ]
  },
  {
   "cell_type": "markdown",
   "metadata": {},
   "source": [
    "## Задание 2\n",
    "\n",
    "Напишите программу, которая последовательно запрашивает у пользователя числа (**по одному за раз**) и после первого нуля выводит сумму всех ранее введенных чисел."
   ]
  },
  {
   "cell_type": "code",
   "execution_count": 3,
   "metadata": {},
   "outputs": [
    {
     "name": "stdout",
     "output_type": "stream",
     "text": [
      "Введите произвольное число: 1\n",
      "Введите произвольное число: 4\n",
      "Введите произвольное число: 6\n",
      "Введите произвольное число: 0\n",
      "Результат: 11\n"
     ]
    }
   ],
   "source": [
    "#флаг для числа, которое человек вводит\n",
    "number = 0\n",
    "#сумма чисел\n",
    "sum_of_numbers = 0\n",
    "\n",
    "while True:\n",
    "    a = int(input(\"Введите произвольное число: \"))\n",
    "    \n",
    "    if a == 0:\n",
    "        break\n",
    "    else:\n",
    "        sum_of_numbers += a\n",
    "print(\"Результат:\", sum_of_numbers)"
   ]
  },
  {
   "cell_type": "code",
   "execution_count": 4,
   "metadata": {},
   "outputs": [
    {
     "name": "stdout",
     "output_type": "stream",
     "text": [
      "Введите произвольное число: 0\n",
      "Результат: 0\n"
     ]
    }
   ],
   "source": [
    "number = 0\n",
    "sum_of_numbers = 0\n",
    "\n",
    "while True:\n",
    "    a = int(input(\"Введите произвольное число: \"))\n",
    "    \n",
    "    if a == 0:\n",
    "        break\n",
    "    else:\n",
    "        sum_of_numbers += a\n",
    "print(\"Результат:\", sum_of_numbers)"
   ]
  },
  {
   "cell_type": "markdown",
   "metadata": {},
   "source": [
    "## Задание 3\n",
    "\n",
    "Мы делаем MVP dating-сервиса, и у нас есть список парней и девушек.\n",
    "Выдвигаем гипотезу: лучшие рекомендации мы получим, если просто отсортируем имена по алфавиту и познакомим людей с одинаковыми индексами после сортировки! Но мы не будем никого знакомить, если кто-то может остаться без пары.\n",
    "\n"
   ]
  },
  {
   "cell_type": "code",
   "execution_count": 5,
   "metadata": {},
   "outputs": [
    {
     "name": "stdout",
     "output_type": "stream",
     "text": [
      "Идеальные пары:\n",
      "Alex и Emma\n",
      "Arthur и Kate\n",
      "John и Kira\n",
      "Peter и Liza\n",
      "Richard и Trisha\n"
     ]
    }
   ],
   "source": [
    "#Когда списки равны по количеству элементов\n",
    "boys = ['Peter', 'Alex', 'John', 'Arthur', 'Richard']\n",
    "girls = ['Kate', 'Liza', 'Kira', 'Emma', 'Trisha']\n",
    "boys.sort()\n",
    "girls.sort()\n",
    "if len(boys) == len (girls):\n",
    "    print(\"Идеальные пары:\")\n",
    "    for i, j in zip(boys, girls):\n",
    "        print(i, \"и\", j)\n",
    "else:\n",
    "    print (\"Внимание, кто-то может остаться без пары!\")"
   ]
  },
  {
   "cell_type": "code",
   "execution_count": 6,
   "metadata": {},
   "outputs": [
    {
     "name": "stdout",
     "output_type": "stream",
     "text": [
      "Внимание, кто-то может остаться без пары!\n"
     ]
    }
   ],
   "source": [
    "#Когда количество элементов не равно\n",
    "boys = ['Peter', 'Alex', 'John', 'Arthur', 'Richard', 'Michael']\n",
    "girls = ['Kate', 'Liza', 'Kira', 'Emma', 'Trisha']\n",
    "boys.sort()\n",
    "girls.sort()\n",
    "if len(boys) == len (girls):\n",
    "    print(\"Идеальные пары:\")\n",
    "    for i, j in zip(boys, girls):\n",
    "        print(i, \"и\", j)\n",
    "else:\n",
    "    print (\"Внимание, кто-то может остаться без пары!\")"
   ]
  },
  {
   "cell_type": "markdown",
   "metadata": {},
   "source": [
    "## Задание 4\n",
    "\n",
    "У нас есть список, содержащий информацию о среднедневной температуре в Фаренгейтах за произвольный период по странам (структура данных в примере). Необходимо написать код, который рассчитает среднюю температуру за период **в Цельсиях** для каждой страны.\n",
    "\n",
    "- countries_temperature = [\n",
    "    ['Thailand', [75.2, 77, 78.8, 73.4, 68, 75.2, 77]],\n",
    "    ['Germany', [57.2, 55.4, 59, 59, 53.6]],\n",
    "    ['Russia', [35.6, 37.4, 39.2, 41, 42.8, 39.2, 35.6]],\n",
    "    ['Poland', [50, 50, 53.6, 57.2, 55.4, 55.4]]"
   ]
  },
  {
   "cell_type": "code",
   "execution_count": 1,
   "metadata": {},
   "outputs": [
    {
     "name": "stdout",
     "output_type": "stream",
     "text": [
      "Средняя температура в странах:\n",
      "Thailand - 23.9 C\n",
      "Germany - 13.8 C\n",
      "Russia - 3.7 C\n",
      "Poland - 12.0 C\n"
     ]
    }
   ],
   "source": [
    "countries_temperature = [\n",
    "    ['Thailand', [75.2, 77, 78.8, 73.4, 68, 75.2, 77]],\n",
    "    ['Germany', [57.2, 55.4, 59, 59, 53.6]],\n",
    "    ['Russia', [35.6, 37.4, 39.2, 41, 42.8, 39.2, 35.6]],\n",
    "    ['Poland', [50, 50, 53.6, 57.2, 55.4, 55.4]]\n",
    "]\n",
    "\n",
    "print ('Средняя температура в странах:')\n",
    "for i in countries_temperature:\n",
    "    celsium = round((sum(i[1]) / len(i[1]) - 32) / 1.8, 1)\n",
    "    print(i[0], '-', celsium, 'C')"
   ]
  },
  {
   "cell_type": "markdown",
   "metadata": {},
   "source": [
    "## Задание 5 \n",
    "Дан поток логов по количеству просмотренных страниц для каждого пользователя. Вам необходимо написать алгоритм, который считает среднее значение просмотров на пользователя. Т. е. **надо посчитать отношение суммы всех просмотров к количеству уникальных пользователей.**"
   ]
  },
  {
   "cell_type": "code",
   "execution_count": 6,
   "metadata": {},
   "outputs": [
    {
     "name": "stdout",
     "output_type": "stream",
     "text": [
      "Среднее количество просмотров на уникального пользователя: 23.25\n"
     ]
    }
   ],
   "source": [
    "stream = [\n",
    "'2018-01-01,user1,3',\n",
    "'2018-01-07,user1,4',\n",
    "'2018-03-29,user1,1',\n",
    "'2018-04-04,user1,13',\n",
    "'2018-01-05,user2,7',\n",
    "'2018-06-14,user3,4',\n",
    "'2018-07-02,user3,10',\n",
    "'2018-03-21,user4,19',\n",
    "'2018-03-22,user4,4',\n",
    "'2018-04-22,user4,8',\n",
    "'2018-05-03,user4,9',\n",
    "'2018-05-11,user4,11',\n",
    "]\n",
    "\n",
    "number_of_users, number_of_views = 0, 0\n",
    "last_user = ''\n",
    "for i in stream:\n",
    "    i = i.split(',')\n",
    "    if i[1]!=last_user:\n",
    "        number_of_users += 1\n",
    "        last_user = i[1]\n",
    "    number_of_views += int(i[2])\n",
    "avg = round(number_of_views/number_of_users, 2)\n",
    "print('Среднее количество просмотров на уникального пользователя:' , avg)"
   ]
  },
  {
   "cell_type": "code",
   "execution_count": 7,
   "metadata": {},
   "outputs": [
    {
     "name": "stdout",
     "output_type": "stream",
     "text": [
      "Среднее количество просмотров на уникального пользователя: 145.33\n"
     ]
    }
   ],
   "source": [
    "stream = [\n",
    "'2018-01-01,user100,150',\n",
    "'2018-01-07,user99,205',\n",
    "'2018-03-29,user1001,81'\n",
    "]\n",
    "\n",
    "number_of_users, number_of_views = 0, 0\n",
    "last_user = ''\n",
    "for i in stream:\n",
    "    i = i.split(',')\n",
    "    if i[1]!=last_user:\n",
    "        number_of_users += 1\n",
    "        last_user = i[1]\n",
    "    number_of_views += int(i[2])\n",
    "avg = round(number_of_views/number_of_users, 2)\n",
    "print('Среднее количество просмотров на уникального пользователя:' , avg)"
   ]
  },
  {
   "cell_type": "code",
   "execution_count": null,
   "metadata": {},
   "outputs": [],
   "source": []
  }
 ],
 "metadata": {
  "kernelspec": {
   "display_name": "Python 3",
   "language": "python",
   "name": "python3"
  },
  "language_info": {
   "codemirror_mode": {
    "name": "ipython",
    "version": 3
   },
   "file_extension": ".py",
   "mimetype": "text/x-python",
   "name": "python",
   "nbconvert_exporter": "python",
   "pygments_lexer": "ipython3",
   "version": "3.8.5"
  }
 },
 "nbformat": 4,
 "nbformat_minor": 4
}
