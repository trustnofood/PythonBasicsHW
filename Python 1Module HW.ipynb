{
 "cells": [
  {
   "cell_type": "markdown",
   "metadata": {},
   "source": [
    "## Задание 1\n",
    "Даны 2 переменных, в которых хранятся строки произвольной длины: **phrase_1** и **phrase_2**.\n",
    "Напишите код, который проверяет,какая из этих строк длиннее."
   ]
  },
  {
   "cell_type": "code",
   "execution_count": 1,
   "metadata": {},
   "outputs": [
    {
     "name": "stdout",
     "output_type": "stream",
     "text": [
      "Введите первую фразу: Насколько проще было бы писать программы, если бы не заказчики\n",
      "Введите вторую фразу: 640Кб должно хватить для любых задач. Билл Гейтс (по легенде)\n",
      "Фраза 1 длиннее Фразы 2\n"
     ]
    }
   ],
   "source": [
    "#Делаю универсальный код, который будет проверять фразы не только из самого задания\n",
    "phrase_1 = str(input('Введите первую фразу: '))\n",
    "phrase_2 = str(input('Введите вторую фразу: '))\n",
    "\n",
    "if phrase_1 > phrase_2:\n",
    "    print ('Фраза 1 длиннее Фразы 2')\n",
    "else:\n",
    "    print ('Фраза 1 короче Фразы 2')"
   ]
  },
  {
   "cell_type": "code",
   "execution_count": 3,
   "metadata": {},
   "outputs": [
    {
     "name": "stdout",
     "output_type": "stream",
     "text": [
      "Введите первую фразу: Насколько проще было бы писать программы, если бы не заказчики\n",
      "Введите вторую фразу: Насколько проще было бы писать программы, если бы не заказчики\n",
      "Фразы равной длины\n"
     ]
    }
   ],
   "source": [
    "phrase_1 = str(input('Введите первую фразу: '))\n",
    "phrase_2 = str(input('Введите вторую фразу: '))\n",
    "\n",
    "if phrase_1 > phrase_2:\n",
    "    print ('Фраза 1 длиннее Фразы 2')\n",
    "    elif phrase_1 == phrase_2:\n",
    "    print ('Фразы равной длины')\n",
    "else:\n",
    "    print ('Фраза 1 короче Фразы 2') "
   ]
  },
  {
   "cell_type": "code",
   "execution_count": 4,
   "metadata": {},
   "outputs": [
    {
     "name": "stdout",
     "output_type": "stream",
     "text": [
      "Введите первую фразу: 640Кб должно хватить для любых задач. Билл Гейтс (по легенде)\n",
      "Введите вторую фразу: Насколько проще было бы писать программы, если бы не заказчики\n",
      "Фраза 1 короче Фразы 2\n"
     ]
    }
   ],
   "source": [
    "phrase_1 = str(input('Введите первую фразу: '))\n",
    "phrase_2 = str(input('Введите вторую фразу: '))\n",
    "\n",
    "if phrase_1 > phrase_2:\n",
    "    print ('Фраза 1 длиннее Фразы 2')\n",
    "    elif phrase_1 == phrase_2:\n",
    "    print ('Фразы равной длины')\n",
    "else:\n",
    "    print ('Фраза 1 короче Фразы 2') "
   ]
  },
  {
   "cell_type": "markdown",
   "metadata": {},
   "source": [
    "## Задание 2\n",
    "Дана переменная, в которой хранится **четырехзначное число (год)**. Необходимо написать программу, которая выведет, является ли данный год високосным или обычным."
   ]
  },
  {
   "cell_type": "code",
   "execution_count": 6,
   "metadata": {},
   "outputs": [
    {
     "name": "stdout",
     "output_type": "stream",
     "text": [
      "Введите год: 2019\n",
      "Обычный год\n"
     ]
    }
   ],
   "source": [
    "year = int(input('Введите год: '))\n",
    "\n",
    "if year % 4 == 0 and year % 100 != 0 or year % 400 == 0:\n",
    "    print (\"Високосный год\") \n",
    "else:\n",
    "    print (\"Обычный год\") "
   ]
  },
  {
   "cell_type": "code",
   "execution_count": 7,
   "metadata": {},
   "outputs": [
    {
     "name": "stdout",
     "output_type": "stream",
     "text": [
      "Введите год: 1996\n",
      "Високосный год\n"
     ]
    }
   ],
   "source": [
    "year = int(input('Введите год: '))\n",
    "\n",
    "if year % 4 == 0 and year % 100 != 0 or year % 400 == 0:\n",
    "    print (\"Високосный год\") \n",
    "else:\n",
    "    print (\"Обычный год\") "
   ]
  },
  {
   "cell_type": "markdown",
   "metadata": {},
   "source": [
    "## Задание 3\n",
    "Необходимо написать программу, которая будет запрашивать у пользователя месяц и дату рождения и выводить соответствующий знак зодиака."
   ]
  },
  {
   "cell_type": "code",
   "execution_count": 16,
   "metadata": {},
   "outputs": [
    {
     "name": "stdout",
     "output_type": "stream",
     "text": [
      "Введите день: 30\n",
      "Введите месяц с большой буквы: Август\n",
      "Ваш знак зодиака: Дева\n"
     ]
    }
   ],
   "source": [
    "def program():\n",
    "    \"\"\"Print zodiac sigh by setting day and month of birth\"\"\"\n",
    "    day_of_birth = int(input('Введите день: '))\n",
    "    month_of_birth = str(input('Введите месяц с большой буквы: '))\n",
    "\n",
    "    if month_of_birth == 'Декабрь' and day_of_birth >= 22 or month_of_birth=='Январь' and day_of_birth<= 19:\n",
    "        zodiac_sign = (\"Козерог\")\n",
    "    elif month_of_birth=='Январь' and day_of_birth >= 20 or month_of_birth=='Февраль' and day_of_birth<= 17:\n",
    "            zodiac_sign = (\"Водолей\")\n",
    "    elif month_of_birth=='Февраль' and day_of_birth >= 18 or month_of_birth=='Март' and day_of_birth<= 19:\n",
    "            zodiac_sign = (\"Рыбы\")\n",
    "    elif month_of_birth=='Март' and day_of_birth >= 20 or month_of_birth=='Апрель' and day_of_birth<= 19:\n",
    "            zodiac_sign = (\"Овен\")\n",
    "    elif month_of_birth=='Апрель' and day_of_birth >= 20 or month_of_birth=='Май' and day_of_birth<= 20:\n",
    "            zodiac_sign = (\"Телец\")\n",
    "    elif month_of_birth=='Май' and day_of_birth >= 21 or month_of_birth=='Июнь' and iday_of_birth<= 20:\n",
    "            zodiac_sign = (\"Дева\")\n",
    "    elif month_of_birth=='Июнь' and day_of_birth >= 21 or month_of_birth=='Июль' and day_of_birth<= 22:\n",
    "            zodiac_sign = (\"Рак\")\n",
    "    elif month_of_birth=='Июль' and day_of_birth >= 23 or month_of_birth=='Август' and day_of_birth<= 22: \n",
    "            zodiac_sign = (\"Лев\")\n",
    "    elif month_of_birth=='Август' and day_of_birth >= 23 or month_of_birth=='Сентябрь' and day_of_birth<= 22: \n",
    "            zodiac_sign = (\"Дева\")\n",
    "    elif month_of_birth=='Сентябрь' and day_of_birth >= 23 or month_of_birth=='Октябрь' and day_of_birth<= 22:\n",
    "            zodiac_sign = (\"Весы\")\n",
    "    elif month_of_birth=='Октябрь' and day_of_birth >= 23 or month_of_birth=='Ноябрь' and day_of_birth<= 21: \n",
    "            zodiac_sign = (\"Скорпион\")\n",
    "    elif month_of_birth=='Ноябрь' and day_of_birth >= 22 or month_of_birth=='Декабрь' and day_of_birth<= 21:\n",
    "            zodiac_sign = (\"Стрельцы\")\n",
    "                                                      \n",
    "    print('Ваш знак зодиака: ' + (zodiac_sign))\n",
    "\n",
    "program()"
   ]
  },
  {
   "cell_type": "code",
   "execution_count": 17,
   "metadata": {},
   "outputs": [
    {
     "name": "stdout",
     "output_type": "stream",
     "text": [
      "Введите день: 29\n",
      "Введите месяц с большой буквы: Октябрь\n",
      "Ваш знак зодиака: Скорпион\n"
     ]
    }
   ],
   "source": [
    "program()"
   ]
  },
  {
   "cell_type": "markdown",
   "metadata": {},
   "source": [
    "## Задание 4\n",
    "Вам нужно написать программу для подбора упаковок по размерам товара. Размеры (ширина, длина, высота) хранятся в переменных (в сантиметрах):\n",
    "\n",
    "Используйте следующие правила:\n",
    "\n",
    "- если каждое из трех измерений менее или равно 15 сантиметрам, то выведите на экран “Коробка №1”;\n",
    "- если хотя бы одно из измерений больше 15 сантиметров, но менее 50 сантиметров, то выводите “Коробка №2”;\n",
    "- если длина товара больше 2 метров, то выводите “Упаковка для лыж”;\n",
    "- во всех остальных случаях выводите “Стандартная коробка №3”."
   ]
  },
  {
   "cell_type": "code",
   "execution_count": 18,
   "metadata": {},
   "outputs": [
    {
     "name": "stdout",
     "output_type": "stream",
     "text": [
      "Введите ширину: 15\n",
      "Введите длину: 50\n",
      "Введите высоту: 15\n",
      "Стандартная коробка №3\n"
     ]
    }
   ],
   "source": [
    "def box_size():\n",
    "    \"\"\"Program chooses the right size by measurments\"\"\"\n",
    "    width = int(input('Введите ширину: '))\n",
    "    length = int(input('Введите длину: '))\n",
    "    height = int(input('Введите высоту: '))\n",
    "    \n",
    "    if length >= 200:\n",
    "        print('Ищите упаковку для лыж')\n",
    "    elif 15 < width < 50 or 15 < length < 50 or 15 < height < 50:\n",
    "        print('Коробка №2')\n",
    "    elif width <= 15 and length <= 15 and height <= 15:\n",
    "        print('Коробка №1')\n",
    "    else:\n",
    "        print('Стандартная коробка №3')\n",
    "        \n",
    "box_size()  "
   ]
  },
  {
   "cell_type": "code",
   "execution_count": 19,
   "metadata": {},
   "outputs": [
    {
     "name": "stdout",
     "output_type": "stream",
     "text": [
      "Введите ширину: 45\n",
      "Введите длину: 205\n",
      "Введите высоту: 45\n",
      "Ищите упаковку для лыж\n"
     ]
    }
   ],
   "source": [
    "box_size()"
   ]
  },
  {
   "cell_type": "markdown",
   "metadata": {},
   "source": [
    "## Задание 5\n",
    "Дана переменная, в которой хранится шестизначное число (номер проездного билета). Напишите программу, которая будет определять, является ли данный билет “счастливым”.\n",
    "Билет считается счастливым, если сумма первых трех цифр совпадает с суммой последних трех цифр номера."
   ]
  },
  {
   "cell_type": "code",
   "execution_count": 21,
   "metadata": {},
   "outputs": [
    {
     "name": "stdout",
     "output_type": "stream",
     "text": [
      "Введите номер билета: 123456\n",
      "Несчастливый билет\n"
     ]
    }
   ],
   "source": [
    "def is_winning_ticket():\n",
    "    \"\"\"This program defines the winning tickets by the first 3 and the last 3 digits sum identity\"\"\"\n",
    "    ticket_number = [int(i) for i in input('Введите номер билета: ')]\n",
    "    \n",
    "    if sum(ticket_number[:3]) == sum(ticket_number[3:]):\n",
    "        print('Счастливый билет ')\n",
    "    else:\n",
    "        print('Несчастливый билет')\n",
    "        \n",
    "is_winning_ticket()   "
   ]
  },
  {
   "cell_type": "code",
   "execution_count": 22,
   "metadata": {},
   "outputs": [
    {
     "name": "stdout",
     "output_type": "stream",
     "text": [
      "Введите номер билета: 123321\n",
      "Счастливый билет \n"
     ]
    }
   ],
   "source": [
    "is_winning_ticket()   "
   ]
  },
  {
   "cell_type": "markdown",
   "metadata": {},
   "source": [
    "## Задание 6\n",
    "Напишите программу, которая сможет вычислять площади трех фигур (круг, треугольник и прямоугольник). Тип фигуры запрашиваем через пользовательский ввод, после чего делаем запрос характеристик фигуры:\n",
    "\n",
    "- если пользователь выбрал круг, запрашиваем его радиус,\n",
    "- если треугольник – длины трех его сторон;\n",
    "- если прямоугольник – длины двух его сторон."
   ]
  },
  {
   "cell_type": "code",
   "execution_count": 29,
   "metadata": {},
   "outputs": [
    {
     "name": "stdout",
     "output_type": "stream",
     "text": [
      "Выберите фигуру: Круг\n",
      "Введите длину сторон или радиус через пробел: 10\n",
      "10.0\n",
      "Площадь Круг = 314.0\n"
     ]
    }
   ],
   "source": [
    "# Решила поизучать, как сделать код менее объемным и получилось не совсем как в задании, \n",
    "# но работает аналогично\n",
    "\n",
    "def area(figure, measurments):\n",
    "    \"\"\"This program gets the shape's name and its measurments and then prints its area \"\"\"\n",
    "    if figure == 'Круг':\n",
    "        print(measurments[0])\n",
    "        result = 3.14*(measurments[0]**2)\n",
    "    if figure == 'Прямоугольник':\n",
    "        a,b = measurments\n",
    "        result = a*b\n",
    "    if figure == 'Треугольник':\n",
    "        a,b,c = measurments\n",
    "        p = (a+b+c)/2\n",
    "        result = (p*(p-a)*(p-b)*(p-c))**0.5\n",
    "    return 'Площадь {} = {}'.format(figure, result)\n",
    "    \n",
    "figure = input('Выберите фигуру: ')\n",
    "measurments = [ float(i) for i in input('Введите длину сторон или радиус через пробел: ').split()]\n",
    "print(area(figure, measurments))"
   ]
  },
  {
   "cell_type": "code",
   "execution_count": 36,
   "metadata": {},
   "outputs": [
    {
     "name": "stdout",
     "output_type": "stream",
     "text": [
      "Выберите фигуру: Треугольник\n",
      "Введите длину сторон или радиус через пробел: 2 2 3\n",
      "Площадь Треугольник = 1.984313483298443\n"
     ]
    }
   ],
   "source": [
    "def area(figure, measurments):\n",
    "    \"\"\"This program gets the shape's name and its measurments and then prints its area \"\"\"\n",
    "    if figure == 'Круг':\n",
    "        print(measurments[0])\n",
    "        result = 3.14*(measurments[0]**2)\n",
    "    if figure == 'Прямоугольник':\n",
    "        a,b = measurments\n",
    "        result = a*b\n",
    "    if figure == 'Треугольник':\n",
    "        a,b,c = measurments\n",
    "        p = (a+b+c)/2\n",
    "        result = (p*(p-a)*(p-b)*(p-c))**0.5\n",
    "    return 'Площадь {} = {}'.format(figure, result)\n",
    "    \n",
    "figure = input('Выберите фигуру: ')\n",
    "measurments = [ float(i) for i in input('Введите длину сторон или радиус через пробел: ').split()]\n",
    "print(area(figure, measurments))"
   ]
  },
  {
   "cell_type": "code",
   "execution_count": null,
   "metadata": {},
   "outputs": [],
   "source": []
  }
 ],
 "metadata": {
  "kernelspec": {
   "display_name": "Python 3",
   "language": "python",
   "name": "python3"
  },
  "language_info": {
   "codemirror_mode": {
    "name": "ipython",
    "version": 3
   },
   "file_extension": ".py",
   "mimetype": "text/x-python",
   "name": "python",
   "nbconvert_exporter": "python",
   "pygments_lexer": "ipython3",
   "version": "3.8.5"
  }
 },
 "nbformat": 4,
 "nbformat_minor": 4
}
